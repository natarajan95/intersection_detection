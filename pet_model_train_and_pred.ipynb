{
 "cells": [
  {
   "cell_type": "markdown",
   "metadata": {},
   "source": [
    "Train and/or predict if an image represents a road intersection or not. <br>\n",
    "* Completed:\n",
    " * Basic pipeline\n",
    " * Initial/Sample training/testing <br>\n",
    "* To-Do:\n",
    " * Add Call backs to save checkpoints at periodic intervals\n",
    " * Train & test with different or actual data\n",
    " * Update/Change Network"
   ]
  },
  {
   "cell_type": "code",
   "execution_count": 1,
   "metadata": {},
   "outputs": [
    {
     "name": "stderr",
     "output_type": "stream",
     "text": [
      "Using TensorFlow backend.\n"
     ]
    }
   ],
   "source": [
    "try:\n",
    "    import tensorflow as tf\n",
    "    import keras as k\n",
    "    import numpy as np\n",
    "    import pandas as pd\n",
    "    import cv2\n",
    "    import os\n",
    "    import numpy as np\n",
    "    from keras import Sequential\n",
    "    from keras.layers import Dense, Conv2D, Flatten\n",
    "    from matplotlib import pyplot as plt\n",
    "    %matplotlib inline\n",
    "except Exception as e:\n",
    "    print(\"Module Missing/Misspelled: \",e)"
   ]
  },
  {
   "cell_type": "code",
   "execution_count": 2,
   "metadata": {},
   "outputs": [],
   "source": [
    "# Initial Conditions & Paths\n",
    "SRC_TRAIN_PATH = \"./Data/\"\n",
    "SRC_TEST_PATH = \"./Data/\"\n",
    "VAL_SPLIT = 0.2\n",
    "CLASS_CNT = 2\n",
    "EP_CNT = 10\n",
    "BATCH_SIZE = 20\n",
    "MODEL_NAME = \"trained_model.h5\""
   ]
  },
  {
   "cell_type": "code",
   "execution_count": 3,
   "metadata": {},
   "outputs": [],
   "source": [
    "# Flags; Use 1 for Yes; 0 for No\n",
    "# Save trained model\n",
    "FLAG_SAVE_MODEL = 1\n",
    "# Plot training Acc & Loss graphs\n",
    "FLAG_PLOT = 1\n",
    "# Train\n",
    "FLAG_TRAIN = 1\n",
    "# Test\n",
    "FLAG_TEST = 1"
   ]
  },
  {
   "cell_type": "code",
   "execution_count": 4,
   "metadata": {},
   "outputs": [],
   "source": [
    "def get_data(path):\n",
    "    # Read image, resize to (width, height), normalize\n",
    "    # Extract label information (store as int)\n",
    "    # Return pre-processed data & label\n",
    "    files = os.listdir(path)\n",
    "    data = []\n",
    "    label = []\n",
    "    for file in files:\n",
    "        image = cv2.imread(os.path.join(path,file))\n",
    "        image = cv2.resize(image, (64, 64))\n",
    "        image = image / 255.0\n",
    "        label_id = int(file.split(\"_\")[0])\n",
    "        data.append(image); label.append(label_id)\n",
    "    return data, label"
   ]
  },
  {
   "cell_type": "code",
   "execution_count": 5,
   "metadata": {},
   "outputs": [],
   "source": [
    "def create_network():\n",
    "    # Create a DNN\n",
    "    model = Sequential()\n",
    "    model.add(Conv2D(32, (3, 3), input_shape=(64, 64, 3)))\n",
    "    model.add(Flatten())\n",
    "    model.add(Dense(10, activation='relu'))\n",
    "    model.add(Dense(CLASS_CNT, activation='softmax'))\n",
    "    \n",
    "    return model"
   ]
  },
  {
   "cell_type": "code",
   "execution_count": 6,
   "metadata": {},
   "outputs": [],
   "source": [
    "def create_compile_net():\n",
    "    # Create and compile network\n",
    "    model = create_network()\n",
    "    model.compile(loss='binary_crossentropy', optimizer='adam', metrics=['accuracy'])\n",
    "    print(\"Model Summary: \"); model.summary()\n",
    "    return model"
   ]
  },
  {
   "cell_type": "code",
   "execution_count": 7,
   "metadata": {},
   "outputs": [
    {
     "name": "stdout",
     "output_type": "stream",
     "text": [
      "Model Summary: \n",
      "_________________________________________________________________\n",
      "Layer (type)                 Output Shape              Param #   \n",
      "=================================================================\n",
      "conv2d_1 (Conv2D)            (None, 62, 62, 32)        896       \n",
      "_________________________________________________________________\n",
      "flatten_1 (Flatten)          (None, 123008)            0         \n",
      "_________________________________________________________________\n",
      "dense_1 (Dense)              (None, 10)                1230090   \n",
      "_________________________________________________________________\n",
      "dense_2 (Dense)              (None, 2)                 22        \n",
      "=================================================================\n",
      "Total params: 1,231,008\n",
      "Trainable params: 1,231,008\n",
      "Non-trainable params: 0\n",
      "_________________________________________________________________\n",
      "Initiating Training: \n",
      "Train on 100 samples, validate on 25 samples\n",
      "Epoch 1/10\n",
      "100/100 [==============================] - 1s 7ms/step - loss: 7.0728 - acc: 0.3800 - val_loss: 5.1297 - val_acc: 0.6800\n",
      "Epoch 2/10\n",
      "100/100 [==============================] - 0s 5ms/step - loss: 10.1767 - acc: 0.3600 - val_loss: 5.1297 - val_acc: 0.6800\n",
      "Epoch 3/10\n",
      "100/100 [==============================] - 0s 5ms/step - loss: 10.1510 - acc: 0.3600 - val_loss: 5.1297 - val_acc: 0.6800\n",
      "Epoch 4/10\n",
      "100/100 [==============================] - 0s 5ms/step - loss: 7.7328 - acc: 0.3600 - val_loss: 0.7131 - val_acc: 0.3200\n",
      "Epoch 5/10\n",
      "100/100 [==============================] - 0s 5ms/step - loss: 1.0845 - acc: 0.5700 - val_loss: 3.5094 - val_acc: 0.3200\n",
      "Epoch 6/10\n",
      "100/100 [==============================] - 0s 5ms/step - loss: 2.8132 - acc: 0.5000 - val_loss: 2.1444 - val_acc: 0.3200\n",
      "Epoch 7/10\n",
      "100/100 [==============================] - 0s 5ms/step - loss: 1.0149 - acc: 0.6600 - val_loss: 0.6899 - val_acc: 0.3200\n",
      "Epoch 8/10\n",
      "100/100 [==============================] - 0s 5ms/step - loss: 0.6824 - acc: 0.6400 - val_loss: 0.6956 - val_acc: 0.3200\n",
      "Epoch 9/10\n",
      "100/100 [==============================] - 0s 5ms/step - loss: 0.6844 - acc: 0.6400 - val_loss: 0.6961 - val_acc: 0.3200\n",
      "Epoch 10/10\n",
      "100/100 [==============================] - 0s 5ms/step - loss: 0.6841 - acc: 0.6400 - val_loss: 0.6967 - val_acc: 0.3200\n"
     ]
    }
   ],
   "source": [
    "if __name__ == \"__main__\":\n",
    "    if FLAG_TRAIN:\n",
    "        # Get data for training\n",
    "        train_data, train_label = get_data(SRC_TRAIN_PATH)\n",
    "        # Convert train data as array\n",
    "        train_data = np.asarray(train_data)\n",
    "        # Generate one-hot rep. for lables \n",
    "        targets = np.array([train_label]).reshape(-1)\n",
    "        train_label_oh = np.eye(CLASS_CNT)[targets]\n",
    "\n",
    "        \n",
    "        # Create & compile network\n",
    "        model = create_compile_net()\n",
    "        # Train Net and get history (Train Loss & Accuracy) \n",
    "        print(\"Initiating Training: \")\n",
    "        hist = model.fit(train_data, train_label_oh, epochs=EP_CNT, batch_size=BATCH_SIZE, validation_split=VAL_SPLIT)"
   ]
  },
  {
   "cell_type": "code",
   "execution_count": null,
   "metadata": {},
   "outputs": [],
   "source": []
  },
  {
   "cell_type": "code",
   "execution_count": 8,
   "metadata": {},
   "outputs": [
    {
     "data": {
      "image/png": "[encoded data removed]",
      "text/plain": [
       "<Figure size 432x288 with 1 Axes>"
      ]
     },
     "metadata": {},
     "output_type": "display_data"
    }
   ],
   "source": [
    "        if FLAG_PLOT:\n",
    "            loss_list = hist.history['loss']\n",
    "            acc_list = hist.history['acc']\n",
    "            ep_list = range(1, EP_CNT+1)\n",
    "\n",
    "            fig = plt.figure()\n",
    "            ax = plt.subplot(111)\n",
    "            ax.plot(ep_list, loss_list, label = \"Loss\", color=\"red\", marker='o')\n",
    "            ax.plot(ep_list, acc_list, label = \"Acc\", color=\"green\", marker='*')\n",
    "            ax.legend(loc = 0)\n",
    "            plt.show()"
   ]
  },
  {
   "cell_type": "code",
   "execution_count": 9,
   "metadata": {},
   "outputs": [
    {
     "name": "stdout",
     "output_type": "stream",
     "text": [
      "Saving Model file to /media/natarajan95/Bravo/Project/Project/trained_model.h5\n"
     ]
    }
   ],
   "source": [
    "        if FLAG_SAVE_MODEL:\n",
    "            print(\"Saving Model file to {0}/{1}\".format(os.getcwd(), MODEL_NAME))\n",
    "            model.save(MODEL_NAME)\n",
    "        else:\n",
    "            print(\"Not saving model\")"
   ]
  },
  {
   "cell_type": "code",
   "execution_count": 10,
   "metadata": {},
   "outputs": [
    {
     "name": "stdout",
     "output_type": "stream",
     "text": [
      "Test Accuracy: 57.6 % \n"
     ]
    }
   ],
   "source": [
    "    if FLAG_TEST:\n",
    "        # Prediction\n",
    "        try:\n",
    "            from keras.models import load_model\n",
    "        except Exception as e:\n",
    "            print(\"Module Missing/Misspelled: \",e)\n",
    "        \n",
    "        # Get data for test\n",
    "        test_data, test_label = get_data(SRC_TEST_PATH)\n",
    "        # Convert test data as array\n",
    "        test_data = np.asarray(test_data)\n",
    "        # Generate one-hot rep. for lables\n",
    "        targets = np.array([test_label]).reshape(-1)\n",
    "        test_label_oh = np.eye(CLASS_CNT)[targets]\n",
    "        \n",
    "        # Load test Model\n",
    "        pred_model = load_model(MODEL_NAME);\n",
    "        # Predict\n",
    "        pred_res = pred_model.predict_classes(test_data)\n",
    "        # Find Accuracy\n",
    "        true_res = test_label\n",
    "        true = 0\n",
    "        for ix, item in enumerate(pred_res):\n",
    "            if pred_res[ix] == true_res[ix]:\n",
    "                true = true + 1\n",
    "\n",
    "        print(\"Test Accuracy: {0} % \".format(true*100/len(pred_res)))"
   ]
  },
  {
   "cell_type": "code",
   "execution_count": null,
   "metadata": {},
   "outputs": [],
   "source": []
  },
  {
   "cell_type": "markdown",
   "metadata": {},
   "source": [
    "* Anand;\n",
    "* Created: Aug 26, 2018;\n",
    "* Updated: Aug 31, 2018"
   ]
  },
  {
   "cell_type": "code",
   "execution_count": null,
   "metadata": {},
   "outputs": [],
   "source": []
  }
 ],
 "metadata": {
  "kernelspec": {
   "display_name": "Python 3",
   "language": "python",
   "name": "python3"
  },
  "language_info": {
   "codemirror_mode": {
    "name": "ipython",
    "version": 3
   },
   "file_extension": ".py",
   "mimetype": "text/x-python",
   "name": "python",
   "nbconvert_exporter": "python",
   "pygments_lexer": "ipython3",
   "version": "3.6.5"
  }
 },
 "nbformat": 4,
 "nbformat_minor": 2
}
